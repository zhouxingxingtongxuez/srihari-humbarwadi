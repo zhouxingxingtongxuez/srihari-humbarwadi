{
 "cells": [
  {
   "cell_type": "markdown",
   "metadata": {
    "colab_type": "text",
    "id": "view-in-github"
   },
   "source": [
    "<a href=\"https://colab.research.google.com/github/srihari-humbarwadi/ssd_tensorflow/blob/master/colab_tpu.ipynb\" target=\"_parent\"><img src=\"https://colab.research.google.com/assets/colab-badge.svg\" alt=\"Open In Colab\"/></a>"
   ]
  },
  {
   "cell_type": "code",
   "execution_count": null,
   "metadata": {
    "colab": {
     "base_uri": "https://localhost:8080/",
     "height": 146
    },
    "colab_type": "code",
    "id": "9fuVED2kl3Bs",
    "outputId": "4e50263d-7f21-4998-d86e-2a5767d1fb0d"
   },
   "outputs": [],
   "source": [
    "!rm -rf ssd_tensorflow\n",
    "!git clone https://github.com/srihari-humbarwadi/ssd_tensorflow.git\n",
    "\n",
    "import sys\n",
    "from google.colab import auth\n",
    "import tensorflow_gcs_config as tfgcs\n",
    "\n",
    "auth.authenticate_user()\n",
    "\n",
    "sys.path.append('ssd_tensorflow')"
   ]
  },
  {
   "cell_type": "code",
   "execution_count": null,
   "metadata": {
    "colab": {
     "base_uri": "https://localhost:8080/",
     "height": 35
    },
    "colab_type": "code",
    "id": "pRF-gtU1kac2",
    "outputId": "5b92ba61-9da5-4a32-9710-6c03b06c0820"
   },
   "outputs": [],
   "source": [
    "from glob import glob\n",
    "import logging\n",
    "import os\n",
    "from pprint import pprint\n",
    "\n",
    "import tensorflow as tf\n",
    "\n",
    "from ssd.common.callbacks import CallbackBuilder\n",
    "from ssd.common.distribute import get_strategy\n",
    "from ssd.common.config import load_config\n",
    "from ssd.common.viz_utils import draw_boxes_cv2, imshow\n",
    "from ssd.data.dataset_builder import DatasetBuilder\n",
    "from ssd.losses.multibox_loss import MultiBoxLoss\n",
    "from ssd.models.ssd_model import SSDModel\n",
    "\n",
    "logger = tf.get_logger()\n",
    "logger.setLevel(logging.INFO)\n",
    "\n",
    "logger.info('version: {}'.format(tf.__version__))"
   ]
  },
  {
   "cell_type": "code",
   "execution_count": null,
   "metadata": {
    "colab": {},
    "colab_type": "code",
    "id": "cPB_Vmxwkac7"
   },
   "outputs": [],
   "source": [
    "# !PYTHONPATH=\"ssd_tensorflow\" python ssd_tensorflow/ssd/scripts/calculate_feature_shapes.py --image_height 1024 --image_width 1024 --num_feature_maps 7\n",
    "# !PYTHONPATH=\"ssd_tensorflow\" python ssd_tensorflow/ssd/scripts/calculate_scales.py -n 7 --s_first 0.04 --smin 0.06 --smax 0.98"
   ]
  },
  {
   "cell_type": "code",
   "execution_count": null,
   "metadata": {
    "colab": {},
    "colab_type": "code",
    "id": "RxdsZ6bekac9"
   },
   "outputs": [],
   "source": [
    "config = {\n",
    "    'image_height': 512,\n",
    "    'image_width': 512,\n",
    "    'num_classes': 80,\n",
    "    'classes':\n",
    "    [\n",
    "        \"airplane\",\n",
    "        \"apple\",\n",
    "        \"backpack\",\n",
    "        \"banana\",\n",
    "        \"baseball bat\",\n",
    "        \"baseball glove\",\n",
    "        \"bear\",\n",
    "        \"bed\",\n",
    "        \"bench\",\n",
    "        \"bicycle\",\n",
    "        \"bird\",\n",
    "        \"boat\",\n",
    "        \"book\",\n",
    "        \"bottle\",\n",
    "        \"bowl\",\n",
    "        \"broccoli\",\n",
    "        \"bus\",\n",
    "        \"cake\",\n",
    "        \"car\",\n",
    "        \"carrot\",\n",
    "        \"cat\",\n",
    "        \"cell phone\",\n",
    "        \"chair\",\n",
    "        \"clock\",\n",
    "        \"couch\",\n",
    "        \"cow\",\n",
    "        \"cup\",\n",
    "        \"dining table\",\n",
    "        \"dog\",\n",
    "        \"donut\",\n",
    "        \"elephant\",\n",
    "        \"fire hydrant\",\n",
    "        \"fork\",\n",
    "        \"frisbee\",\n",
    "        \"giraffe\",\n",
    "        \"hair drier\",\n",
    "        \"handbag\",\n",
    "        \"horse\",\n",
    "        \"hot dog\",\n",
    "        \"keyboard\",\n",
    "        \"kite\",\n",
    "        \"knife\",\n",
    "        \"laptop\",\n",
    "        \"microwave\",\n",
    "        \"motorcycle\",\n",
    "        \"mouse\",\n",
    "        \"orange\",\n",
    "        \"oven\",\n",
    "        \"parking meter\",\n",
    "        \"person\",\n",
    "        \"pizza\",\n",
    "        \"potted plant\",\n",
    "        \"refrigerator\",\n",
    "        \"remote\",\n",
    "        \"sandwich\",\n",
    "        \"scissors\",\n",
    "        \"sheep\",\n",
    "        \"sink\",\n",
    "        \"skateboard\",\n",
    "        \"skis\",\n",
    "        \"snowboard\",\n",
    "        \"spoon\",\n",
    "        \"sports ball\",\n",
    "        \"stop sign\",\n",
    "        \"suitcase\",\n",
    "        \"surfboard\",\n",
    "        \"teddy bear\",\n",
    "        \"tennis racket\",\n",
    "        \"tie\",\n",
    "        \"toaster\",\n",
    "        \"toilet\",\n",
    "        \"toothbrush\",\n",
    "        \"traffic light\",\n",
    "        \"train\",\n",
    "        \"truck\",\n",
    "        \"tv\",\n",
    "        \"umbrella\",\n",
    "        \"vase\",\n",
    "        \"wine glass\",\n",
    "        \"zebra\",\n",
    "    ],\n",
    "\n",
    "    'clip_default_boxes': False,\n",
    "    'scales': [0.04, 0.1, 0.26, 0.42, 0.58, 0.74, 0.9, 1.06],\n",
    "    'feature_shapes': [[64, 64], [32, 32], [16, 16], [8, 8], [6, 6], [4, 4], [1, 1]],\n",
    "    'aspect_ratios':\n",
    "    [\n",
    "        [0.5, 1, 2],\n",
    "        [0.333, 0.5, 1, 2, 3],\n",
    "        [0.333, 0.5, 1, 2, 3],\n",
    "        [0.333, 0.5, 1, 2, 3],\n",
    "        [0.5, 1, 2],\n",
    "        [0.5, 1, 2],\n",
    "        [0.5, 1, 2],\n",
    "    ],\n",
    "    'loc_variance': [0.1, 0.1, 0.2, 0.2],\n",
    "\n",
    "    'match_iou_threshold': 0.5,\n",
    "    'max_detections': 300,\n",
    "\n",
    "    'nms_iou_threshold': 0.5,\n",
    "    'score_threshold': 0.0001,\n",
    "\n",
    "    'loc_loss_weight': 1.0,\n",
    "    'cls_loss_weight': 2.0,\n",
    "    'negatives_ratio': 3,\n",
    "    'smooth_l1_delta': 1.0,\n",
    "\n",
    "    'backbone': 'resnet_50_v2',\n",
    "    'freeze_bn': False,\n",
    "\n",
    "    'train_images': 117266,\n",
    "    'val_images': 4952,\n",
    "\n",
    "    'tfrecords_train': 'gs://tpu_datasets_us/coco_tfrecords/train*',\n",
    "    'tfrecords_val': 'gs://tpu_datasets_us/coco_tfrecords/val*',\n",
    "\n",
    "    'model_dir': 'gs://tpu_datasets_us/model_files/coco/resnet_50_512x512-8',\n",
    "\n",
    "    'batch_size': 8,\n",
    "    'lr_boundaries': [500, 120000, 180000],\n",
    "    'lr_values': [0.0006, 0.001, 0.0001, 0.00002],\n",
    "    'optimizer_momentum': 0.9,\n",
    "    'nestrov': True,\n",
    "\n",
    "    'l2_regularization': 0.0004,\n",
    "    'epochs': 300,\n",
    "    'patience': 300,\n",
    "    'cache_dataset_in_memory': True,\n",
    "\n",
    "    'resume_training': True,\n",
    "    'clear_previous_runs': False,\n",
    "\n",
    "    'use_mixed_precision': True,\n",
    "\n",
    "    'use_gpu': False,\n",
    "    'multi_gpu': False,\n",
    "\n",
    "    'use_tpu': True,\n",
    "    'tpu_name': 'grpc://' + os.environ['COLAB_TPU_ADDR'],\n",
    "\n",
    "    'scale_lr': True,\n",
    "    'scale_batch_size': True,\n",
    "\n",
    "    'augment_val_dataset': False,\n",
    "    'random_pad_to_square': True,\n",
    "    'random_brightness': False,\n",
    "    'random_contrast': True,\n",
    "    'random_saturation': True,\n",
    "    'random_flip_horizonal': False,\n",
    "    'random_patch': True,\n",
    "\n",
    "    'max_pad_ratio': 2,\n",
    "    'brightness_max_delta': 0.2,\n",
    "    'contrast_lower': 0.5,\n",
    "    'contrast_upper': 1.5,\n",
    "    'saturation_lower': 0.5,\n",
    "    'saturation_upper': 1.5,\n",
    "    'min_obj_covered': [0.3, 0.5, 0.7, 0.9],\n",
    "    'area_range': [0.1, 1],\n",
    "    'aspect_ratio_range': [0.667, 1.334],\n",
    "}"
   ]
  },
  {
   "cell_type": "code",
   "execution_count": null,
   "metadata": {
    "colab": {
     "base_uri": "https://localhost:8080/",
     "height": 830
    },
    "colab_type": "code",
    "id": "yIfD1wimkac_",
    "outputId": "e9acd92b-6706-41e3-f3dd-0035524fc86c"
   },
   "outputs": [],
   "source": [
    "if config['use_mixed_precision']:\n",
    "    if config['use_tpu']:\n",
    "        dtype = 'mixed_bfloat16'\n",
    "    elif config['use_gpu']:\n",
    "        #         dtype = 'mixed_float16' # todo: implement loss scaling\n",
    "        dtype = 'float32'\n",
    "    else:\n",
    "        dtype = 'float32'\n",
    "else:\n",
    "    dtype = 'float32'\n",
    "\n",
    "\n",
    "policy = tf.keras.mixed_precision.experimental.Policy(dtype)\n",
    "tf.keras.mixed_precision.experimental.set_policy(policy)\n",
    "\n",
    "logger.info('Compute dtype: {}'.format(policy.compute_dtype))\n",
    "logger.info('Variable dtype: {}'.format(policy.variable_dtype))\n",
    "\n",
    "strategy = get_strategy(config)\n",
    "tfgcs.configure_gcs_from_colab_auth()\n",
    "\n",
    "epochs = config['epochs']\n",
    "\n",
    "lr_values = list(config['lr_values'])\n",
    "if config['scale_lr']:\n",
    "    for i in range(len(lr_values)):\n",
    "        lr_values[i] *= strategy.num_replicas_in_sync\n",
    "config['lr_values'] = lr_values\n",
    "\n",
    "batch_size = config['batch_size']\n",
    "batch_size = batch_size if not config['scale_batch_size'] else batch_size * strategy.num_replicas_in_sync\n",
    "config['batch_size'] = batch_size\n",
    "\n",
    "train_steps = config['train_images'] // config['batch_size']\n",
    "val_steps = config['val_images'] // config['batch_size']"
   ]
  },
  {
   "cell_type": "code",
   "execution_count": null,
   "metadata": {
    "colab": {
     "base_uri": "https://localhost:8080/",
     "height": 91
    },
    "colab_type": "code",
    "id": "nFIfoPIjKf9b",
    "outputId": "971f6f76-e848-410a-afdd-9495deded908"
   },
   "outputs": [],
   "source": [
    "with strategy.scope():\n",
    "    train_dataset = DatasetBuilder('train', config)\n",
    "    val_dataset = DatasetBuilder('val', config)\n",
    "\n",
    "    loss_fn = MultiBoxLoss(config)\n",
    "    lr_sched = tf.optimizers.schedules.PiecewiseConstantDecay(config['lr_boundaries'], config['lr_values'])\n",
    "    optimizer = tf.optimizers.SGD(lr_sched, momentum=config['optimizer_momentum'], nesterov=config['nestrov'])\n",
    "    callbacks_list = CallbackBuilder('COCO_', config).get_callbacks()\n",
    "\n",
    "    model = SSDModel(config)\n",
    "    model.compile(loss_fn=loss_fn, optimizer=optimizer)\n",
    "    if config['resume_training']:\n",
    "        latest_checkpoint = tf.train.latest_checkpoint(os.path.join(config['model_dir'], 'checkpoints'))\n",
    "        if latest_checkpoint is not None:\n",
    "            logger.info('Loading weights from {}'.format(latest_checkpoint))\n",
    "            model.load_weights(latest_checkpoint)\n",
    "        else:\n",
    "            logger.warning('No weights found, training from scratch')"
   ]
  },
  {
   "cell_type": "code",
   "execution_count": null,
   "metadata": {
    "colab": {
     "base_uri": "https://localhost:8080/",
     "height": 35
    },
    "colab_type": "code",
    "id": "tFRNuqClkadE",
    "outputId": "e8e3eff7-b8b4-4f68-b12a-33ce0317ef2e"
   },
   "outputs": [],
   "source": [
    "model.fit(train_dataset.dataset,\n",
    "          epochs=epochs,\n",
    "          steps_per_epoch=train_steps,\n",
    "          validation_data=val_dataset.dataset,\n",
    "          validation_steps=val_steps,\n",
    "          callbacks=callbacks_list)"
   ]
  },
  {
   "cell_type": "code",
   "execution_count": null,
   "metadata": {
    "colab": {},
    "colab_type": "code",
    "id": "FJVmRMfdkadG"
   },
   "outputs": [],
   "source": [
    "from tqdm import tqdm \n",
    "\n",
    "for images, _ in val_dataset.dataset.take(1):\n",
    "    for i in tqdm(range(images.shape[0])):\n",
    "        image = tf.cast(images[i], dtype=policy.compute_dtype)\n",
    "        detections = model.get_detections(image[None, ...])\n",
    "        if 'resnet' in config['backbone']:\n",
    "            image = image * 127.5 + 127.5\n",
    "        categories = [config['classes'][cls_id] for cls_id in detections['cls_ids']]\n",
    "        image = draw_boxes_cv2(image, detections['boxes'], categories)\n",
    "        imshow(image, (8, 8))"
   ]
  },
  {
   "cell_type": "code",
   "execution_count": null,
   "metadata": {
    "colab": {},
    "colab_type": "code",
    "id": "tG30f7wukadI"
   },
   "outputs": [],
   "source": [
    "signatures = {\n",
    "    'serving_default': model.get_detections.get_concrete_function(tf.TensorSpec([1, config['image_height'], config['image_width'], 3]))\n",
    "}"
   ]
  },
  {
   "cell_type": "code",
   "execution_count": null,
   "metadata": {
    "colab": {},
    "colab_type": "code",
    "id": "8upNJaXlkadK"
   },
   "outputs": [],
   "source": [
    "model.save('model_files/v1', save_format='tf', signatures=signatures)"
   ]
  },
  {
   "cell_type": "code",
   "execution_count": null,
   "metadata": {
    "colab": {},
    "colab_type": "code",
    "id": "ujoy4xNFXVAO"
   },
   "outputs": [],
   "source": []
  },
  {
   "cell_type": "code",
   "execution_count": null,
   "metadata": {
    "colab": {},
    "colab_type": "code",
    "id": "6-mYmSWQXjvE"
   },
   "outputs": [],
   "source": []
  }
 ],
 "metadata": {
  "accelerator": "TPU",
  "colab": {
   "include_colab_link": true,
   "name": "colab_train.ipynb",
   "provenance": []
  },
  "kernelspec": {
   "display_name": "Python 3",
   "language": "python",
   "name": "python3"
  },
  "language_info": {
   "codemirror_mode": {
    "name": "ipython",
    "version": 3
   },
   "file_extension": ".py",
   "mimetype": "text/x-python",
   "name": "python",
   "nbconvert_exporter": "python",
   "pygments_lexer": "ipython3",
   "version": "3.7.6"
  }
 },
 "nbformat": 4,
 "nbformat_minor": 4
}
