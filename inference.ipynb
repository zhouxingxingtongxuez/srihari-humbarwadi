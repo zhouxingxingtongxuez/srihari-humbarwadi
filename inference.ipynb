{
 "cells": [
  {
   "cell_type": "code",
   "execution_count": null,
   "metadata": {},
   "outputs": [],
   "source": [
    "from glob import glob\n",
    "import logging\n",
    "import os\n",
    "\n",
    "import matplotlib.pyplot as plt\n",
    "import numpy as np\n",
    "import tensorflow as tf\n",
    "from tqdm import tqdm\n",
    "\n",
    "from ssd.common.box_utils import rescale_boxes\n",
    "from ssd.common.config import load_config\n",
    "from ssd.common.viz_utils import visualize_detections\n",
    "from ssd.models.ssd_model import SSDModel\n",
    "\n",
    "logger = tf.get_logger()\n",
    "logger.setLevel(logging.INFO)\n",
    "\n",
    "logger.info('version: {}'.format(tf.__version__))"
   ]
  },
  {
   "cell_type": "code",
   "execution_count": null,
   "metadata": {},
   "outputs": [],
   "source": [
    "config = load_config('cfg/resnet50_2.yaml')"
   ]
  },
  {
   "cell_type": "code",
   "execution_count": null,
   "metadata": {},
   "outputs": [],
   "source": [
    "logger.info('Building model')\n",
    "model = SSDModel(config)"
   ]
  },
  {
   "cell_type": "code",
   "execution_count": null,
   "metadata": {},
   "outputs": [],
   "source": [
    "latest_checkpoint = 'model_files/coco/resnet50_2/checkpoints/_COCO__ssd_weights_epoch_741'\n",
    "\n",
    "model.load_weights(latest_checkpoint)\n",
    "logger.info('Initialized model weights from {}'.format(latest_checkpoint))"
   ]
  },
  {
   "cell_type": "code",
   "execution_count": null,
   "metadata": {},
   "outputs": [],
   "source": [
    "def pad_to_square_fn(image):\n",
    "    dims = tf.shape(image)\n",
    "    image_height = dims[0]\n",
    "    image_width = dims[1]\n",
    "\n",
    "    side = tf.maximum(image_height, image_width)\n",
    "    offset_x = 0\n",
    "    offset_y = 0\n",
    "    padded_image = tf.image.pad_to_bounding_box(image, offset_y, offset_x, side, side)\n",
    "    return padded_image, side\n",
    "\n",
    "def get_detections(image_path, input_shape, mean_pixel=(103.939, 116.779, 123.68)):\n",
    "    image = tf.image.decode_image(tf.io.read_file(image_path), channels=3)\n",
    "    image.set_shape([None, None, 3])\n",
    "    image = tf.cast(image, dtype=tf.float32)\n",
    "    padded_image, side = pad_to_square_fn(image)\n",
    "    input_image = tf.image.resize(padded_image, [input_shape[0], input_shape[1]])\n",
    "    input_image = input_image[:, :, ::-1] - tf.constant(mean_pixel)\n",
    "    input_image = tf.expand_dims(input_image, axis=0)\n",
    "    detections = model.predict(input_image)\n",
    "    detections['boxes'] = rescale_boxes(detections['boxes'],\n",
    "                                        [input_shape[0], input_shape[1]],\n",
    "                                        [side, side])\n",
    "    return image, detections"
   ]
  },
  {
   "cell_type": "code",
   "execution_count": null,
   "metadata": {},
   "outputs": [],
   "source": [
    "images = glob('dataset_downloads/coco/val2017/*')\n",
    "print('Found {} images'.format(len(images)))"
   ]
  },
  {
   "cell_type": "code",
   "execution_count": null,
   "metadata": {},
   "outputs": [],
   "source": [
    "input_shape = [config['image_height'], config['image_width']]\n",
    "\n",
    "for idx in tqdm(np.random.choice(range(len(images)), 10)):\n",
    "    image, detections = get_detections(images[idx], input_shape)\n",
    "    classes = [config['classes'][_id] for _id in detections['cls_ids']]\n",
    "    ax = visualize_detections(image, detections['boxes'], classes, detections['scores'])\n",
    "    ax.figure.savefig('assets/results/{}.png'.format(idx), bbox_inches='tight')\n",
    "    plt.close()"
   ]
  },
  {
   "cell_type": "code",
   "execution_count": null,
   "metadata": {},
   "outputs": [],
   "source": [
    "rm assets/results/*"
   ]
  },
  {
   "cell_type": "code",
   "execution_count": null,
   "metadata": {},
   "outputs": [],
   "source": []
  }
 ],
 "metadata": {
  "kernelspec": {
   "display_name": "Python 3",
   "language": "python",
   "name": "python3"
  },
  "language_info": {
   "codemirror_mode": {
    "name": "ipython",
    "version": 3
   },
   "file_extension": ".py",
   "mimetype": "text/x-python",
   "name": "python",
   "nbconvert_exporter": "python",
   "pygments_lexer": "ipython3",
   "version": "3.7.6"
  }
 },
 "nbformat": 4,
 "nbformat_minor": 4
}
