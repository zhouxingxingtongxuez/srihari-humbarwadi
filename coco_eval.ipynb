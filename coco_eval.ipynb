{
 "cells": [
  {
   "cell_type": "code",
   "execution_count": null,
   "metadata": {},
   "outputs": [],
   "source": [
    "# !wget --no-check-certificate -P model_files/coco/resnet50_2/checkpoints \\\n",
    "# https://storage.googleapis.com/tfrc-srihari-europe/model_files/coco/resnet50_2/checkpoints/checkpoint  \\\n",
    "# https://storage.googleapis.com/tfrc-srihari-europe/model_files/coco/resnet50_2/checkpoints/_COCO__ssd_weights_epoch_741.data-00001-of-00002  \\\n",
    "# https://storage.googleapis.com/tfrc-srihari-europe/model_files/coco/resnet50_2/checkpoints/_COCO__ssd_weights_epoch_741.data-00000-of-00002  \\\n",
    "# https://storage.googleapis.com/tfrc-srihari-europe/model_files/coco/resnet50_2/checkpoints/_COCO__ssd_weights_epoch_741.index"
   ]
  },
  {
   "cell_type": "code",
   "execution_count": null,
   "metadata": {},
   "outputs": [],
   "source": [
    "import os\n",
    "\n",
    "\n",
    "from ssd.evaluators.coco_evaluator import CocoEvaluator\n",
    "from ssd.common.config import load_config"
   ]
  },
  {
   "cell_type": "code",
   "execution_count": null,
   "metadata": {},
   "outputs": [],
   "source": [
    "# !aria2c -j 16 -d =dataset_downloads/coco/zips -Z \"http://images.cocodataset.org/annotations/annotations_trainval2017.zip\" \"http://images.cocodataset.org/zips/val2017.zip\"\n",
    "# !unzip dataset_downloads/coco/zips/\"*\".zip -d dataset_downloads/coco"
   ]
  },
  {
   "cell_type": "code",
   "execution_count": null,
   "metadata": {},
   "outputs": [],
   "source": [
    "os.environ['CUDA_VISIBLE_DEVICES'] = '2'"
   ]
  },
  {
   "cell_type": "code",
   "execution_count": null,
   "metadata": {},
   "outputs": [],
   "source": [
    "config = load_config('cfg/resnet50_2.yaml')\n",
    "evaluator = CocoEvaluator('dataset_downloads/coco', config, 'results.json')"
   ]
  },
  {
   "cell_type": "code",
   "execution_count": null,
   "metadata": {},
   "outputs": [],
   "source": [
    "evaluator.load_model('model_files/coco/resnet50_2/checkpoints/_COCO__ssd_weights_epoch_741')\n",
    "evaluator.run_inference()\n",
    "evaluator.compute_statistics()"
   ]
  },
  {
   "cell_type": "code",
   "execution_count": null,
   "metadata": {},
   "outputs": [],
   "source": []
  }
 ],
 "metadata": {
  "kernelspec": {
   "display_name": "Python 3",
   "language": "python",
   "name": "python3"
  },
  "language_info": {
   "codemirror_mode": {
    "name": "ipython",
    "version": 3
   },
   "file_extension": ".py",
   "mimetype": "text/x-python",
   "name": "python",
   "nbconvert_exporter": "python",
   "pygments_lexer": "ipython3",
   "version": "3.7.6"
  }
 },
 "nbformat": 4,
 "nbformat_minor": 4
}
