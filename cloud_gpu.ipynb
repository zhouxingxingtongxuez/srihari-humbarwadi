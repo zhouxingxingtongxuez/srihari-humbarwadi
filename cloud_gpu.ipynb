{
 "cells": [
  {
   "cell_type": "code",
   "execution_count": null,
   "metadata": {
    "colab": {
     "base_uri": "https://localhost:8080/",
     "height": 34
    },
    "colab_type": "code",
    "id": "pRF-gtU1kac2",
    "outputId": "1349656e-3441-4f45-d066-5cc5e9272d8c"
   },
   "outputs": [],
   "source": [
    "import logging\n",
    "import os\n",
    "from pprint import pprint\n",
    "import shutil\n",
    "from tqdm import tqdm\n",
    "\n",
    "import tensorflow as tf\n",
    "\n",
    "from ssd.common.callbacks import CallbackBuilder\n",
    "from ssd.common.distribute import get_strategy\n",
    "from ssd.common.config import load_config\n",
    "from ssd.common.viz_utils import draw_boxes_cv2, imshow\n",
    "from ssd.data.dataset_builder import DatasetBuilder\n",
    "from ssd.losses.multibox_loss import MultiBoxLoss\n",
    "from ssd.models.ssd_model import SSDModel\n",
    "\n",
    "logger = tf.get_logger()\n",
    "logger.setLevel(logging.INFO)\n",
    "\n",
    "logger.info('version: {}'.format(tf.__version__))"
   ]
  },
  {
   "cell_type": "code",
   "execution_count": null,
   "metadata": {
    "colab": {},
    "colab_type": "code",
    "id": "cPB_Vmxwkac7"
   },
   "outputs": [],
   "source": [
    "# !python ssd/scripts/calculate_feature_shapes.py --image_height 640 --image_width 640 --num_feature_maps 7\n",
    "# !python ssd/scripts/calculate_scales.py -n 6 --s_first 0.1 --smin 0.2 --smax 0.9\n",
    "!python check_matching.py ssd/cfg/coco_base.yaml"
   ]
  },
  {
   "cell_type": "code",
   "execution_count": null,
   "metadata": {
    "colab": {
     "base_uri": "https://localhost:8080/",
     "height": 1000
    },
    "colab_type": "code",
    "id": "yIfD1wimkac_",
    "outputId": "c65f657d-67eb-4ccb-cd78-6ef3e8b21426"
   },
   "outputs": [],
   "source": [
    "config = load_config('ssd/cfg/coco_base.yaml')\n",
    "\n",
    "dtype = 'float32'\n",
    "\n",
    "policy = tf.keras.mixed_precision.experimental.Policy(dtype)\n",
    "tf.keras.mixed_precision.experimental.set_policy(policy)\n",
    "\n",
    "logger.info('Compute dtype: {}'.format(policy.compute_dtype))\n",
    "logger.info('Variable dtype: {}'.format(policy.variable_dtype))\n",
    "\n",
    "strategy = get_strategy(config)\n",
    "\n",
    "epochs = config['epochs']\n",
    "\n",
    "lr_values = list(config['lr_values'])\n",
    "if config['scale_lr']:\n",
    "    for i in range(len(lr_values)):\n",
    "        lr_values[i] *= strategy.num_replicas_in_sync\n",
    "config['lr_values'] = lr_values\n",
    "\n",
    "batch_size = config['batch_size']\n",
    "batch_size = batch_size if not config['scale_batch_size'] else batch_size * strategy.num_replicas_in_sync\n",
    "config['batch_size'] = batch_size\n",
    "\n",
    "train_steps = config['train_images'] // config['batch_size']\n",
    "val_steps = config['val_images'] // config['batch_size']\n",
    "\n",
    "config"
   ]
  },
  {
   "cell_type": "code",
   "execution_count": null,
   "metadata": {
    "colab": {
     "base_uri": "https://localhost:8080/",
     "height": 50
    },
    "colab_type": "code",
    "id": "xxDv9velkadC",
    "outputId": "61605fa6-09fb-4bf8-aa12-e30cc2cc5bc0"
   },
   "outputs": [],
   "source": [
    "if config['clear_previous_runs']:\n",
    "    try:\n",
    "        shutil.rmtree(os.path.join(config['model_dir']))\n",
    "        logger.info('Cleared existing model files\\n')\n",
    "    except FileNotFoundError:\n",
    "        logger.warning('mode_dir not found!')\n",
    "        \n",
    "with strategy.scope():\n",
    "    train_dataset = DatasetBuilder('train', config)\n",
    "    val_dataset = DatasetBuilder('val', config)\n",
    "\n",
    "    loss_fn = MultiBoxLoss(config)\n",
    "    lr_sched = tf.optimizers.schedules.PiecewiseConstantDecay(config['lr_boundaries'], config['lr_values'])\n",
    "    optimizer = tf.optimizers.SGD(lr_sched, momentum=config['optimizer_momentum'], nesterov=config['nestrov'])\n",
    "    callbacks_list = CallbackBuilder('_COCO_', config).get_callbacks()\n",
    "\n",
    "    model = SSDModel(config)\n",
    "    model.compile(loss_fn=loss_fn, optimizer=optimizer)\n",
    "    if config['resume_training']:\n",
    "        latest_checkpoint = tf.train.latest_checkpoint(os.path.join(config['model_dir'], 'checkpoints'))\n",
    "        if latest_checkpoint is not None:\n",
    "            logger.info('Loading weights from {}'.format(latest_checkpoint))\n",
    "            model.load_weights(latest_checkpoint)\n",
    "        else:\n",
    "            logger.warning('No weights found, training from scratch')"
   ]
  },
  {
   "cell_type": "code",
   "execution_count": null,
   "metadata": {},
   "outputs": [],
   "source": [
    "model.fit(train_dataset.dataset,\n",
    "          epochs=epochs,\n",
    "          steps_per_epoch=train_steps,\n",
    "          validation_data=val_dataset.dataset,\n",
    "          validation_steps=val_steps,\n",
    "          callbacks=callbacks_list)\n",
    "\n",
    "with strategy.scope():\n",
    "    save_path = os.path.join(config['model_dir'], 'final_weights', 'ssd_weights')\n",
    "    logger.info('Saving final weights at in {}'.format(save_path))\n",
    "    model.save_weights(save_path)"
   ]
  },
  {
   "cell_type": "code",
   "execution_count": null,
   "metadata": {},
   "outputs": [],
   "source": [
    "with strategy.scope():\n",
    "    best_weights = tf.train.latest_checkpoint(os.path.join(config['model_dir'], 'best_weights'))\n",
    "    model.load_weights(best_weights)\n",
    "    logger.info('Loaded weights from {}'.format(best_weights))"
   ]
  },
  {
   "cell_type": "code",
   "execution_count": null,
   "metadata": {},
   "outputs": [],
   "source": [
    "for images, _ in val_dataset.dataset.take(1):\n",
    "    for i in range(images.shape[0]):\n",
    "        if i == 20: break\n",
    "        image = images[i]\n",
    "        detections = model.get_detections(image[None, ...])\n",
    "        image = (image + tf.constant([103.939, 116.779, 123.68]))[:, :, ::-1]\n",
    "        categories = [config['classes'][cls_id] for cls_id in detections['cls_ids'].numpy()]\n",
    "        image = draw_boxes_cv2(image, detections['boxes'], categories)\n",
    "        imshow(image)"
   ]
  },
  {
   "cell_type": "code",
   "execution_count": null,
   "metadata": {},
   "outputs": [],
   "source": []
  }
 ],
 "metadata": {
  "accelerator": "TPU",
  "colab": {
   "include_colab_link": true,
   "name": "colab_train.ipynb",
   "provenance": []
  },
  "environment": {
   "name": "tf2-cpu.2-1.m47",
   "type": "gcloud",
   "uri": "gcr.io/deeplearning-platform-release/tf2-cpu.2-1:m47"
  },
  "kernelspec": {
   "display_name": "Python 3",
   "language": "python",
   "name": "python3"
  },
  "language_info": {
   "codemirror_mode": {
    "name": "ipython",
    "version": 3
   },
   "file_extension": ".py",
   "mimetype": "text/x-python",
   "name": "python",
   "nbconvert_exporter": "python",
   "pygments_lexer": "ipython3",
   "version": "3.7.6"
  }
 },
 "nbformat": 4,
 "nbformat_minor": 4
}
